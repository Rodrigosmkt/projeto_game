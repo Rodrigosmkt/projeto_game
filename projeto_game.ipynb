{
 "cells": [
  {
   "cell_type": "code",
   "execution_count": null,
   "metadata": {},
   "outputs": [],
   "source": [
    "## Jogo de adivinhação de números entre 0 a 100\n",
    "\n",
    "### importação do Random para sorteio do número, e OS para zerar o programa.\n",
    "\n",
    "import random\n",
    "import os"
   ]
  },
  {
   "cell_type": "code",
   "execution_count": 11,
   "metadata": {},
   "outputs": [],
   "source": [
    "## função criada para ter somente input de números.\n",
    "\n",
    "def escolha_numero():\n",
    "    a = ''\n",
    "    while a.isdigit() == False:\n",
    "        a = input('Coloque um número entre 1 a 100')\n",
    "    return int(a)"
   ]
  },
  {
   "cell_type": "code",
   "execution_count": null,
   "metadata": {},
   "outputs": [],
   "source": [
    "## Desfecho do codigo \n",
    "\n",
    "erros=0\n",
    "sorteado=random.randrange(0,100)\n",
    "jogador=escolha_numero()\n",
    "while(sorteado!=jogador):\n",
    "    os.system('cls')\n",
    "    if(sorteado>jogador):\n",
    "        print(\"Errado!, tente novamente o numero é maior\")\n",
    "    elif(sorteado<jogador):\n",
    "        print(\"Errado!, tente novamente o numero é menor\")\n",
    "    erros+=1\n",
    "    jogador=int(input(\"Digite um numero entre 1 e 100:  \"))\n",
    "print(\"Aeee o numero é: \" + str(jogador) + \", voce acertou em \" + str(erros+1) + \" tentativas\")"
   ]
  },
  {
   "cell_type": "code",
   "execution_count": null,
   "metadata": {},
   "outputs": [],
   "source": []
  },
  {
   "cell_type": "code",
   "execution_count": null,
   "metadata": {},
   "outputs": [],
   "source": []
  },
  {
   "cell_type": "code",
   "execution_count": null,
   "metadata": {},
   "outputs": [],
   "source": []
  }
 ],
 "metadata": {
  "kernelspec": {
   "display_name": "Python 3",
   "language": "python",
   "name": "python3"
  },
  "language_info": {
   "codemirror_mode": {
    "name": "ipython",
    "version": 3
   },
   "file_extension": ".py",
   "mimetype": "text/x-python",
   "name": "python",
   "nbconvert_exporter": "python",
   "pygments_lexer": "ipython3",
   "version": "3.8.3"
  }
 },
 "nbformat": 4,
 "nbformat_minor": 4
}
